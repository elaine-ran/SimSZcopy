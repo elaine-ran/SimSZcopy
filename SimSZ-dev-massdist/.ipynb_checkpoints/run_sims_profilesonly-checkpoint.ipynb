{
 "cells": [
  {
   "cell_type": "code",
   "execution_count": 17,
   "metadata": {
    "id": "lOkPyRZEQWsm"
   },
   "outputs": [],
   "source": [
    "import get_dm_halo\n",
    "import make_sz_cluster\n",
    "import utils\n",
    "import read_yaml\n",
    "import load_vars\n",
    "from math import e, log\n",
    "\n",
    "import numpy as np\n",
    "import os\n",
    "import shutil\n",
    "import matplotlib.pyplot as plt\n",
    "import pandas as pd\n",
    "\n",
    "from astropy.constants import M_sun\n",
    "from astropy.constants import G\n",
    "from astropy import units as u"
   ]
  },
  {
   "cell_type": "markdown",
   "metadata": {},
   "source": [
    "What this notebook currently does: \n",
    "- Reads in data from the sim run yaml\n",
    "- Loads cosmology\n",
    "- Generates and saves a flat redshift and Mvir distribution as a .txt file\n",
    "- Loads an existing redshift and Mvir distribution from a .txt file\n",
    "\n",
    "What this notebook could do, but currently doesn't:\n",
    "- Generate/use M200 rather than convert from Mvir\n",
    "- Save m, z dist as .h\n",
    "- Generates a realistic z, M500 distribution from a given cosmology \n",
    "\n",
    "What the modules could be improved to do:\n",
    "- Streamline the generation of z,M500 distributions by creating a function with options\n",
    "- Save the z, M500 distribution at the function level in GenerateHalo.py\n",
    "\n",
    "Problems to be addressed:\n",
    "- Profile is oddly steep and needs to be checked with Battaglia 2012 realistic z,M, params"
   ]
  },
  {
   "cell_type": "code",
   "execution_count": 19,
   "metadata": {},
   "outputs": [],
   "source": [
    "ref=read_yaml.YAMLOperator('./inputdata.yaml').parse_yaml() #Read in the .yaml for this simulation run "
   ]
  },
  {
   "cell_type": "code",
   "execution_count": 20,
   "metadata": {},
   "outputs": [],
   "source": [
    "(survey,survey_freq,beam_size,noise_level,image_size,pixel_scale)=load_vars.load_vars().make_dict(ref) #Make a dictionary from the .yaml"
   ]
  },
  {
   "cell_type": "code",
   "execution_count": 22,
   "metadata": {},
   "outputs": [],
   "source": [
    "(cosmo,sigma8,ns)=load_vars.load_vars().flatLCDM(ref) #Make cosmology from yaml input parameters "
   ]
  },
  {
   "cell_type": "code",
   "execution_count": 23,
   "metadata": {
    "scrolled": true
   },
   "outputs": [],
   "source": [
    "#Generate a new flat z, Mvir distribution and save to file: \n",
    "halo=get_dm_halo.GenerateHalo() #Load in get_dm_halo class\n",
    "szcluster=make_sz_cluster.GenerateCluster() #Load in make_sz_cluster class\n",
    "szcluster2=make_sz_cluster8.GenerateCluster() #Load in make_sz_cluster class\n",
    "nsources=1000 #Number of halos to generate"
   ]
  },
  {
   "cell_type": "code",
   "execution_count": 24,
   "metadata": {
    "scrolled": true
   },
   "outputs": [],
   "source": [
    "r=np.linspace(0.01,10,10000) #arcmin\n",
    "r=utils.arcmin_to_Mpc(r,0.5,cosmo)"
   ]
  },
  {
   "cell_type": "code",
   "execution_count": 25,
   "metadata": {},
   "outputs": [],
   "source": [
    "z=0.5\n",
    "Mvir=1.5e13 #solar masses"
   ]
  },
  {
   "cell_type": "code",
   "execution_count": 26,
   "metadata": {},
   "outputs": [],
   "source": [
    "(M200,R200,c200)=halo.vir_to_200_colossus(cosmo,sigma8,ns,Mvir,z) \n",
    "#Convert virial mass to M200 and get R200, concentration from Colossus"
   ]
  },
  {
   "cell_type": "code",
   "execution_count": 27,
   "metadata": {},
   "outputs": [],
   "source": [
    "P200 = szcluster.P200_Battaglia2012(cosmo,z,M200,R200) #P200 from Battaglia et al. 2012"
   ]
  },
  {
   "cell_type": "code",
   "execution_count": 28,
   "metadata": {},
   "outputs": [],
   "source": [
    "P0=szcluster.param_Battaglia2012(18.1,0.154,-0.758,M200,z) #Parameter computation from Table 1 Battaglia et al. 2012\n",
    "xc=szcluster.param_Battaglia2012(0.497,-0.00865,0.731,M200,z)\n",
    "beta=szcluster.param_Battaglia2012(4.35,0.0393,0.415,M200,z)"
   ]
  },
  {
   "cell_type": "code",
   "execution_count": 29,
   "metadata": {},
   "outputs": [
    {
     "name": "stdout",
     "output_type": "stream",
     "text": [
      "[27.19434154 26.14603803 25.2014677  ... -0.17584534 -0.17584534\n",
      " -0.17584534]\n",
      "[15464.82020224 14868.67319652 14331.51695284 ...   -99.99935387\n",
      "   -99.99935418   -99.99935449]\n",
      "[2.73701880e+01 2.63218845e+01 2.53773142e+01 ... 1.13620005e-06\n",
      " 1.13564908e-06 1.13509842e-06]\n"
     ]
    }
   ],
   "source": [
    "Pth=szcluster.Pth_Battaglia2012(cosmo,r,z,R200,-0.3,1.0,beta,xc,P0,P200,M200) #Output Battaglia 2012 pressure profile\n",
    "smth=np.average(Pth)\n",
    "print(Pth-smth)\n",
    "lol=(100*(Pth-smth))/smth\n",
    "print(lol)\n",
    "print(Pth)"
   ]
  },
  {
   "cell_type": "code",
   "execution_count": 30,
   "metadata": {},
   "outputs": [
    {
     "name": "stdout",
     "output_type": "stream",
     "text": [
      "527.1695641548753 cm3 / keV\n",
      "0.4405844772099399 cm3 / keV\n"
     ]
    }
   ],
   "source": [
    "Pth_rescaled=(Pth/P200)*(r/R200)**3.\n",
    "print(np.max(Pth_rescaled))\n",
    "print(np.min(Pth_rescaled))"
   ]
  },
  {
   "cell_type": "code",
   "execution_count": 31,
   "metadata": {},
   "outputs": [
    {
     "data": {
      "image/png": "[encoded data removed]",
      "text/plain": [
       "<Figure size 432x288 with 1 Axes>"
      ]
     },
     "metadata": {
      "needs_background": "light"
     },
     "output_type": "display_data"
    }
   ],
   "source": [
    "plt.plot(r/R200,Pth_rescaled) #Plot Battaglia 2012 pressure profile: this needs to be checked\n",
    "plt.xscale('log')\n",
    "plt.ylabel('$P_{th}/P_{200}(r/R_{200})^3$')\n",
    "plt.xlabel('r/$R_{200}$')\n",
    "plt.xlim(.10,3)\n",
    "plt.show()"
   ]
  },
  {
   "cell_type": "code",
   "execution_count": 34,
   "metadata": {},
   "outputs": [],
   "source": [
    "x=r/R200\n",
    "ros=Mvir/((4/3)*np.pi*R200**3)\n",
    "ro=rho_s/(x*(1+x)**2)\n",
    "ro_rescaled=ro/rho_s"
   ]
  },
  {
   "cell_type": "code",
   "execution_count": 35,
   "metadata": {},
   "outputs": [
    {
     "data": {
      "image/png": "[encoded data removed]",
      "text/plain": [
       "<Figure size 432x288 with 1 Axes>"
      ]
     },
     "metadata": {
      "needs_background": "light"
     },
     "output_type": "display_data"
    }
   ],
   "source": [
    "plt.plot(r/R200,ro_rescaled) #Plot Battaglia 2012 pressure profile: this needs to be checked\n",
    "plt.xscale('log')\n",
    "plt.yscale('log')\n",
    "plt.ylabel('density rho')\n",
    "plt.xlabel('r/$R_{200}$')\n",
    "plt.xlim(10**-2,3)\n",
    "plt.show()"
   ]
  },
  {
   "cell_type": "code",
   "execution_count": 33,
   "metadata": {},
   "outputs": [],
   "source": [
    "cnfw=(5.71*(1+z)**-0.47)*(M200/(2*10**12))**-0.084\n",
    "Rs=R200/cnfw\n",
    "rho_s = M200 / ((4*np.pi*Rs**3) * (np.log(1 + cnfw) - cnfw / (1 + cnfw)))\n",
    "rho_gnfw=(rho_s*(x/xc)**-0.2)*(1+(x/xc)**1)**(-(beta-0.2)/1)\n",
    "rho_rescaled=rho_gnfw/rho_s"
   ]
  },
  {
   "cell_type": "code",
   "execution_count": 36,
   "metadata": {},
   "outputs": [
    {
     "data": {
      "image/png": "[encoded data removed]",
      "text/plain": [
       "<Figure size 432x288 with 1 Axes>"
      ]
     },
     "metadata": {
      "needs_background": "light"
     },
     "output_type": "display_data"
    }
   ],
   "source": [
    "plt.plot(r/R200,rho_rescaled) #Plot NFW profile\n",
    "plt.xscale('log')\n",
    "plt.yscale('log')\n",
    "plt.ylabel('density rho')\n",
    "plt.xlabel('r/$R_{200}$')\n",
    "plt.xlim(10**-2,3)\n",
    "plt.show()"
   ]
  },
  {
   "cell_type": "code",
   "execution_count": null,
   "metadata": {},
   "outputs": [],
   "source": []
  }
 ],
 "metadata": {
  "anaconda-cloud": {},
  "colab": {
   "provenance": []
  },
  "kernelspec": {
   "display_name": "Python 3 (ipykernel)",
   "language": "python",
   "name": "python3"
  },
  "language_info": {
   "codemirror_mode": {
    "name": "ipython",
    "version": 3
   },
   "file_extension": ".py",
   "mimetype": "text/x-python",
   "name": "python",
   "nbconvert_exporter": "python",
   "pygments_lexer": "ipython3",
   "version": "3.9.12"
  }
 },
 "nbformat": 4,
 "nbformat_minor": 1
}
